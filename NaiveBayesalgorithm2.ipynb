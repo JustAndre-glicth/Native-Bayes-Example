{
  "nbformat": 4,
  "nbformat_minor": 0,
  "metadata": {
    "colab": {
      "name": "NaiveBayesalgorithm2.ipynb",
      "provenance": []
    },
    "kernelspec": {
      "name": "python3",
      "display_name": "Python 3"
    }
  },
  "cells": [
    {
      "cell_type": "code",
      "metadata": {
        "colab": {
          "base_uri": "https://localhost:8080/"
        },
        "id": "we_uz9W6-AVH",
        "outputId": "9eeca336-374c-4788-a8d6-ccc231d81847"
      },
      "source": [
        "from google.colab import drive\r\n",
        "drive.mount('/content/drive')"
      ],
      "execution_count": 35,
      "outputs": [
        {
          "output_type": "stream",
          "text": [
            "Mounted at /content/drive\n"
          ],
          "name": "stdout"
        }
      ]
    },
    {
      "cell_type": "code",
      "metadata": {
        "id": "wNfPojXg9Tg7"
      },
      "source": [
        "#"
      ],
      "execution_count": 37,
      "outputs": []
    },
    {
      "cell_type": "code",
      "metadata": {
        "colab": {
          "base_uri": "https://localhost:8080/"
        },
        "id": "1aTangUN950Y",
        "outputId": "98ee69e9-ff1b-43d8-b4f6-cc1d2256415a"
      },
      "source": [
        "import pandas as pd\r\n",
        "\r\n",
        "data = pd.read_csv('/content/drive/MyDrive/PTDataScience/PandasForDataManipulation/titanic.csv')\r\n",
        "\r\n",
        "print(data.head())"
      ],
      "execution_count": 38,
      "outputs": [
        {
          "output_type": "stream",
          "text": [
            "   PassengerId  Survived  Pclass  ...     Fare Cabin  Embarked\n",
            "0            1         0       3  ...   7.2500   NaN         S\n",
            "1            2         1       1  ...  71.2833   C85         C\n",
            "2            3         1       3  ...   7.9250   NaN         S\n",
            "3            4         1       1  ...  53.1000  C123         S\n",
            "4            5         0       3  ...   8.0500   NaN         S\n",
            "\n",
            "[5 rows x 12 columns]\n"
          ],
          "name": "stdout"
        }
      ]
    },
    {
      "cell_type": "code",
      "metadata": {
        "id": "TAhLESkC-eNK"
      },
      "source": [
        "y = list(map(lambda v: 'yes' if v == 1 else 'no', data['Survived'].values)) # target values as string\r\n",
        "\r\n",
        "X = data[['Pclass', 'Sex', 'Age']].values # features values"
      ],
      "execution_count": 40,
      "outputs": []
    },
    {
      "cell_type": "code",
      "metadata": {
        "colab": {
          "base_uri": "https://localhost:8080/"
        },
        "id": "q5TrLSBJ-t78",
        "outputId": "3a188776-a53c-4ea2-e360-3357c75a0f60"
      },
      "source": [
        "print(len(y)) # >> 887\r\n",
        "\r\n",
        "#600 examples to train and the rest to the validation process\r\n",
        "y_train = y[:600]\r\n",
        "y_val = y[600:]\r\n",
        "\r\n",
        "X_train = X[:600]\r\n",
        "X_val = X[600:]"
      ],
      "execution_count": 41,
      "outputs": [
        {
          "output_type": "stream",
          "text": [
            "891\n"
          ],
          "name": "stdout"
        }
      ]
    },
    {
      "cell_type": "code",
      "metadata": {
        "colab": {
          "base_uri": "https://localhost:8080/"
        },
        "id": "VMS_Aywq-z1L",
        "outputId": "f4281408-94eb-42ba-b6e1-0fc4d6451929"
      },
      "source": [
        "## Creating the Naive Bayes Classifier instance with the training data\r\n",
        "\r\n",
        "nbc = NaiveBayesClassifier(X_train, y_train)\r\n",
        "\r\n",
        "\r\n",
        "total_cases = len(y_val) # size of validation set\r\n",
        "\r\n",
        "# Well classified examples and bad classified examples\r\n",
        "good = 0\r\n",
        "bad = 0\r\n",
        "\r\n",
        "for i in range(total_cases):\r\n",
        "    predict = nbc.classify(X_val[i])\r\n",
        "#     print(y_val[i] + ' --------------- ' + predict)\r\n",
        "    if y_val[i] == predict:\r\n",
        "        good += 1\r\n",
        "    else:\r\n",
        "        bad += 1\r\n",
        "\r\n",
        "print('TOTAL EXAMPLES:', total_cases)\r\n",
        "print('RIGHT:', good)\r\n",
        "print('WRONG:', bad)\r\n",
        "print('ACCURACY:', good/total_cases)"
      ],
      "execution_count": 42,
      "outputs": [
        {
          "output_type": "stream",
          "text": [
            "TOTAL EXAMPLES: 291\n",
            "RIGHT: 217\n",
            "WRONG: 74\n",
            "ACCURACY: 0.7457044673539519\n"
          ],
          "name": "stdout"
        }
      ]
    }
  ]
}